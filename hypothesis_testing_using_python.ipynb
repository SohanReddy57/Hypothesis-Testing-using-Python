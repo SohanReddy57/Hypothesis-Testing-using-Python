{
  "nbformat": 4,
  "nbformat_minor": 0,
  "metadata": {
    "colab": {
      "provenance": [],
      "authorship_tag": "ABX9TyNAJv7JiWh90CH+AatVprA9",
      "include_colab_link": true
    },
    "kernelspec": {
      "name": "python3",
      "display_name": "Python 3"
    },
    "language_info": {
      "name": "python"
    }
  },
  "cells": [
    {
      "cell_type": "markdown",
      "metadata": {
        "id": "view-in-github",
        "colab_type": "text"
      },
      "source": [
        "<a href=\"https://colab.research.google.com/github/SohanReddy57/Hypothesis-Testing-using-Python/blob/main/hypothesis_testing_using_python.ipynb\" target=\"_parent\"><img src=\"https://colab.research.google.com/assets/colab-badge.svg\" alt=\"Open In Colab\"/></a>"
      ]
    },
    {
      "cell_type": "markdown",
      "source": [
        "# **Hypothesis Testing using Python**\n",
        "\n",
        "Hypothesis Testing is a statistical method used to make inferences or decisions about a population based on sample data. It starts with a null hypothesis (H0), which represents a default stance or no effect, and an alternative hypothesis (H1 or Ha), which represents what we aim to prove or expect to find. The process involves using sample data to determine whether to reject the null hypothesis in favor of the alternative hypothesis, based on the likelihood of observing the sample data under the null hypothesis. So, if you want to learn how to perform Hypothesis Testing, this article is for you. In this article, I’ll take you through the task of Hypothesis Testing using Python.\n",
        "\n",
        "Hypothesis Testing: Process We Can Follow\n",
        "So, Hypothesis Testing is a fundamental process in data science for making data-driven decisions and inferences about populations based on sample data. Below is the process we can follow for the task of Hypothesis Testing:\n",
        "\n",
        "Gather the necessary data required for the hypothesis test.\n",
        "Define Null (H0) and Alternative Hypothesis (H1 or Ha).\n",
        "Choose the Significance Level (α), which is the probability of rejecting the null hypothesis when it is true.\n",
        "Select the appropriate statistical tests. Examples include t-tests for comparing means, chi-square tests for categorical data, and ANOVA for comparing means across more than two groups.\n",
        "Perform the chosen statistical test on your data.\n",
        "Determine the p-value and interpret the results of your statistical tests.\n",
        "To get started with Hypothesis Testing, we need appropriate data. I found an ideal dataset for this task. You can download the dataset from [here.](https://statso.io/light-theme-and-dark-theme-case-study/)\n",
        "\n",
        "\n",
        "Now, let’s get started with the task of Hypothesis Testing by importing the necessary Python libraries and the dataset:"
      ],
      "metadata": {
        "id": "qJksmy1YIPEp"
      }
    },
    {
      "cell_type": "code",
      "source": [
        "import pandas as pd\n",
        "from scipy.stats import ttest_ind\n",
        "\n",
        "df = pd.read_csv(\"website_ab_test.csv\")\n",
        "\n",
        "print(df.head())"
      ],
      "metadata": {
        "colab": {
          "base_uri": "https://localhost:8080/"
        },
        "id": "w-2ByInMI3zl",
        "outputId": "ae7a2868-14d3-41c6-ce36-27353a14f28c"
      },
      "execution_count": null,
      "outputs": [
        {
          "output_type": "stream",
          "name": "stdout",
          "text": [
            "         Theme  Click Through Rate  Conversion Rate  Bounce Rate  \\\n",
            "0  Light Theme            0.054920         0.282367     0.405085   \n",
            "1  Light Theme            0.113932         0.032973     0.732759   \n",
            "2   Dark Theme            0.323352         0.178763     0.296543   \n",
            "3  Light Theme            0.485836         0.325225     0.245001   \n",
            "4  Light Theme            0.034783         0.196766     0.765100   \n",
            "\n",
            "   Scroll_Depth  Age   Location  Session_Duration Purchases Added_to_Cart  \n",
            "0     72.489458   25    Chennai              1535        No           Yes  \n",
            "1     61.858568   19       Pune               303        No           Yes  \n",
            "2     45.737376   47    Chennai               563       Yes           Yes  \n",
            "3     76.305298   58       Pune               385       Yes            No  \n",
            "4     48.927407   25  New Delhi              1437        No            No  \n"
          ]
        }
      ]
    },
    {
      "cell_type": "markdown",
      "source": [
        "So, the dataset is based on the performance of two themes on a website. Our task is to find which theme performs better using Hypothesis Testing. Let’s go through the summary of the dataset, including the number of records, the presence of missing values, and basic statistics for the numerical columns:"
      ],
      "metadata": {
        "id": "JDWhtjMBJAFS"
      }
    },
    {
      "cell_type": "code",
      "source": [
        "# dataset summary\n",
        "summary = {\n",
        "    'Number of Records': df.shape[0],\n",
        "    'Number of Columns': df.shape[1],\n",
        "    'Missing Values': df.isnull().sum(),\n",
        "    'Numerical Columns Summary': df.describe()\n",
        "}\n",
        "\n",
        "summary"
      ],
      "metadata": {
        "colab": {
          "base_uri": "https://localhost:8080/"
        },
        "id": "vnKBdaPLI7J6",
        "outputId": "4a8e4663-5d98-4eb6-b9e2-b430475e36c6"
      },
      "execution_count": null,
      "outputs": [
        {
          "output_type": "execute_result",
          "data": {
            "text/plain": [
              "{'Number of Records': 1000,\n",
              " 'Number of Columns': 10,\n",
              " 'Missing Values': Theme                 0\n",
              " Click Through Rate    0\n",
              " Conversion Rate       0\n",
              " Bounce Rate           0\n",
              " Scroll_Depth          0\n",
              " Age                   0\n",
              " Location              0\n",
              " Session_Duration      0\n",
              " Purchases             0\n",
              " Added_to_Cart         0\n",
              " dtype: int64,\n",
              " 'Numerical Columns Summary':        Click Through Rate  Conversion Rate  Bounce Rate  Scroll_Depth  \\\n",
              " count         1000.000000      1000.000000  1000.000000   1000.000000   \n",
              " mean             0.256048         0.253312     0.505758     50.319494   \n",
              " std              0.139265         0.139092     0.172195     16.895269   \n",
              " min              0.010767         0.010881     0.200720     20.011738   \n",
              " 25%              0.140794         0.131564     0.353609     35.655167   \n",
              " 50%              0.253715         0.252823     0.514049     51.130712   \n",
              " 75%              0.370674         0.373040     0.648557     64.666258   \n",
              " max              0.499989         0.498916     0.799658     79.997108   \n",
              " \n",
              "                Age  Session_Duration  \n",
              " count  1000.000000       1000.000000  \n",
              " mean     41.528000        924.999000  \n",
              " std      14.114334        508.231723  \n",
              " min      18.000000         38.000000  \n",
              " 25%      29.000000        466.500000  \n",
              " 50%      42.000000        931.000000  \n",
              " 75%      54.000000       1375.250000  \n",
              " max      65.000000       1797.000000  }"
            ]
          },
          "metadata": {},
          "execution_count": 5
        }
      ]
    },
    {
      "cell_type": "markdown",
      "source": [
        "The dataset contains 1,000 records across 10 columns, with no missing values. Here’s a quick summary of the numerical columns:\n",
        "\n",
        "Click Through Rate: Ranges from about 0.01 to 0.50 with a mean of approximately 0.26.\n",
        "Conversion Rate: Also ranges from about 0.01 to 0.50 with a mean close to the Click Through Rate, approximately 0.25.\n",
        "Bounce Rate: Varies between 0.20 and 0.80, with a mean around 0.51.\n",
        "Scroll Depth: Shows a spread from 20.01 to nearly 80, with a mean of 50.32.\n",
        "Age: The age of users ranges from 18 to 65 years, with a mean age of about 41.5 years.\n",
        "Session Duration: This varies widely from 38 seconds to nearly 1800 seconds (30 minutes), with a mean session duration of approximately 925 seconds (about 15 minutes).\n",
        "Now, let’s move on to comparing the performance of both themes based on the provided metrics. We’ll look into the average Click Through Rate, Conversion Rate, Bounce Rate, and other relevant metrics for each theme. Afterwards, we can perform hypothesis testing to identify if there’s a statistically significant difference between the themes:"
      ],
      "metadata": {
        "id": "XhIh_M7BJG6h"
      }
    },
    {
      "cell_type": "code",
      "source": [
        "# grouping data by theme and calculating mean values for the metrics\n",
        "#theme_performance = df.groupby('Theme').mean()\n",
        "theme_performance = df.groupby('Theme').mean(numeric_only=True)\n",
        "\n",
        "# sorting the data by conversion rate for a better comparison\n",
        "theme_performance_sorted = theme_performance.sort_values(by='Conversion Rate', ascending=False)\n",
        "\n",
        "print(theme_performance_sorted)"
      ],
      "metadata": {
        "colab": {
          "base_uri": "https://localhost:8080/"
        },
        "id": "yMN6idghJERQ",
        "outputId": "ef5612a3-e7de-4628-f254-dd56a7f97763"
      },
      "execution_count": null,
      "outputs": [
        {
          "output_type": "stream",
          "name": "stdout",
          "text": [
            "             Click Through Rate  Conversion Rate  Bounce Rate  Scroll_Depth  \\\n",
            "Theme                                                                         \n",
            "Light Theme            0.247109         0.255459     0.499035     50.735232   \n",
            "Dark Theme             0.264501         0.251282     0.512115     49.926404   \n",
            "\n",
            "                   Age  Session_Duration  \n",
            "Theme                                     \n",
            "Light Theme  41.734568        930.833333  \n",
            "Dark Theme   41.332685        919.482490  \n"
          ]
        }
      ]
    },
    {
      "cell_type": "markdown",
      "source": [
        "The comparison between the Light Theme and Dark Theme on average performance metrics reveals the following insights:\n",
        "\n",
        "* Click Through Rate (CTR): The Dark Theme has a slightly higher average CTR (0.2645) compared to the Light Theme (0.2471).\n",
        "* Conversion Rate: The Light Theme leads with a marginally higher average Conversion Rate (0.2555) compared to the Dark Theme (0.2513).\n",
        "* Bounce Rate: The Bounce Rate is slightly higher for the Dark Theme (0.5121) than for the Light Theme (0.4990).\n",
        "* Scroll Depth: Users on the Light Theme scroll slightly further on average (50.74%) compared to those on the Dark Theme (49.93%).\n",
        "* Age: The average age of users is similar across themes, with the Light Theme at approximately 41.73 years and the Dark Theme at 41.33 years.\n",
        "* Session Duration: The average session duration is slightly longer for users on the Light Theme (930.83 seconds) than for those on the Dark Theme (919.48 seconds).\n",
        "\n",
        "\n",
        "From these insights, it appears that the Light Theme slightly outperforms the Dark Theme in terms of Conversion Rate, Bounce Rate, Scroll Depth, and Session Duration, while the Dark Theme leads in Click Through Rate. However, the differences are relatively minor across all metrics."
      ],
      "metadata": {
        "id": "jFI_Gus7MPj_"
      }
    },
    {
      "cell_type": "markdown",
      "source": [
        "## Getting Started with Hypothesis Testing\n",
        "We’ll use a significance level (alpha) of 0.05 for our hypothesis testing. It means we’ll consider a result statistically significant if the p-value from our test is less than 0.05.\n",
        "\n",
        "Let’s start with hypothesis testing based on the Conversion Rate between the Light Theme and Dark Theme. Our hypotheses are as follows:\n",
        "\n",
        "* Null Hypothesis (H0​): There is no difference in Conversion Rates between the Light Theme and Dark Theme.\n",
        "* Alternative Hypothesis (Ha​): There is a difference in Conversion Rates between the Light Theme and Dark Theme.\n",
        "\n",
        "We’ll use a two-sample t-test to compare the means of the two independent samples. Let’s proceed with the test:"
      ],
      "metadata": {
        "id": "tkBWGrGnMdt_"
      }
    },
    {
      "cell_type": "code",
      "source": [
        "# extracting conversion rates for both themes\n",
        "conversion_rates_light = df[df['Theme'] == 'Light Theme']['Conversion Rate']\n",
        "conversion_rates_dark = df[df['Theme'] == 'Dark Theme']['Conversion Rate']\n",
        "\n",
        "# performing a two-sample t-test\n",
        "t_stat, p_value = ttest_ind(conversion_rates_light, conversion_rates_dark, equal_var=False)\n",
        "\n",
        "t_stat, p_value"
      ],
      "metadata": {
        "colab": {
          "base_uri": "https://localhost:8080/"
        },
        "id": "MHbBxYlELONm",
        "outputId": "a2eae441-8a49-4c54-a4f3-b783021f18ea"
      },
      "execution_count": null,
      "outputs": [
        {
          "output_type": "execute_result",
          "data": {
            "text/plain": [
              "(0.4748494462782632, 0.6349982678451778)"
            ]
          },
          "metadata": {},
          "execution_count": 16
        }
      ]
    },
    {
      "cell_type": "markdown",
      "source": [
        "The result of the two-sample t-test gives a p-value of approximately 0.635. Since this p-value is much greater than our significance level of 0.05, we do not have enough evidence to reject the null hypothesis. Therefore, we conclude that there is no statistically significant difference in Conversion Rates between the Light Theme and Dark Theme based on the data provided.\n",
        "\n",
        "Now, let’s conduct hypothesis testing based on the Click Through Rate (CTR) to see if there’s a statistically significant difference between the Light Theme and Dark Theme regarding how often users click through. Our hypotheses remain structured similarly:\n",
        "\n",
        "* **Null Hypothesis (H0​)**: There is no difference in Click Through Rates between the Light Theme and Dark Theme.\n",
        "* **Alternative Hypothesis (Ha​)**: There is a difference in Click Rates between the Light Theme and Dark Theme.\n",
        "\n",
        "We’ll perform a two-sample t-test on the CTR for both themes. Let’s proceed with the calculation:"
      ],
      "metadata": {
        "id": "obGpXaAsMoYA"
      }
    },
    {
      "cell_type": "code",
      "source": [
        "# extracting click through rates for both themes\n",
        "ctr_light = df[df['Theme'] == 'Light Theme']['Click Through Rate']\n",
        "ctr_dark = df[df['Theme'] == 'Dark Theme']['Click Through Rate']\n",
        "\n",
        "# performing a two-sample t-test\n",
        "t_stat_ctr, p_value_ctr = ttest_ind(ctr_light, ctr_dark, equal_var=False)\n",
        "\n",
        "t_stat_ctr, p_value_ctr"
      ],
      "metadata": {
        "colab": {
          "base_uri": "https://localhost:8080/"
        },
        "id": "G2XqRw-VMmDe",
        "outputId": "1855ef84-0ea9-49d1-b309-ffe22b7773a7"
      },
      "execution_count": null,
      "outputs": [
        {
          "output_type": "execute_result",
          "data": {
            "text/plain": [
              "(-1.9781708664172253, 0.04818435371010704)"
            ]
          },
          "metadata": {},
          "execution_count": 17
        }
      ]
    },
    {
      "cell_type": "markdown",
      "source": [
        "The two-sample t-test for the Click Through Rate (CTR) between the Light Theme and Dark Theme yields a p-value of approximately 0.048. This p-value is slightly below our significance level of 0.05, indicating that there is a statistically significant difference in Click Through Rates between the Light Theme and Dark Theme, with the Dark Theme likely having a higher CTR given the direction of the test statistic.\n",
        "\n",
        "Now, let’s perform Hypothesis Testing based on two other metrics: bounce rate and scroll depth, which are important metrics for analyzing the performance of a theme or a design on a website. I’ll first perform these statistical tests and then create a table to show the report of all the tests we have done:"
      ],
      "metadata": {
        "id": "pJb5F6A6M2Y3"
      }
    },
    {
      "cell_type": "code",
      "source": [
        "# extracting bounce rates for both themes\n",
        "bounce_rates_light = df[df['Theme'] == 'Light Theme']['Bounce Rate']\n",
        "bounce_rates_dark = df[df['Theme'] == 'Dark Theme']['Bounce Rate']\n",
        "\n",
        "# performing a two-sample t-test for bounce rate\n",
        "t_stat_bounce, p_value_bounce = ttest_ind(bounce_rates_light, bounce_rates_dark, equal_var=False)\n",
        "\n",
        "# extracting scroll depths for both themes\n",
        "scroll_depth_light = df[df['Theme'] == 'Light Theme']['Scroll_Depth']\n",
        "scroll_depth_dark = df[df['Theme'] == 'Dark Theme']['Scroll_Depth']\n",
        "\n",
        "# performing a two-sample t-test for scroll depth\n",
        "t_stat_scroll, p_value_scroll = ttest_ind(scroll_depth_light, scroll_depth_dark, equal_var=False)\n",
        "\n",
        "# creating a table for comparison\n",
        "comparison_table = pd.DataFrame({\n",
        "    'Metric': ['Click Through Rate', 'Conversion Rate', 'Bounce Rate', 'Scroll Depth'],\n",
        "    'T-Statistic': [t_stat_ctr, t_stat, t_stat_bounce, t_stat_scroll],\n",
        "    'P-Value': [p_value_ctr, p_value, p_value_bounce, p_value_scroll]\n",
        "})\n",
        "\n",
        "comparison_table"
      ],
      "metadata": {
        "colab": {
          "base_uri": "https://localhost:8080/",
          "height": 174
        },
        "id": "rt9DG4aSMz5o",
        "outputId": "18e7a6b5-ad33-4cfd-e24f-06029bfd7994"
      },
      "execution_count": null,
      "outputs": [
        {
          "output_type": "execute_result",
          "data": {
            "text/plain": [
              "               Metric  T-Statistic   P-Value\n",
              "0  Click Through Rate    -1.978171  0.048184\n",
              "1     Conversion Rate     0.474849  0.634998\n",
              "2         Bounce Rate    -1.201888  0.229692\n",
              "3        Scroll Depth     0.756228  0.449692"
            ],
            "text/html": [
              "\n",
              "  <div id=\"df-121adcab-0628-4dbe-86b2-a00f722e3e64\" class=\"colab-df-container\">\n",
              "    <div>\n",
              "<style scoped>\n",
              "    .dataframe tbody tr th:only-of-type {\n",
              "        vertical-align: middle;\n",
              "    }\n",
              "\n",
              "    .dataframe tbody tr th {\n",
              "        vertical-align: top;\n",
              "    }\n",
              "\n",
              "    .dataframe thead th {\n",
              "        text-align: right;\n",
              "    }\n",
              "</style>\n",
              "<table border=\"1\" class=\"dataframe\">\n",
              "  <thead>\n",
              "    <tr style=\"text-align: right;\">\n",
              "      <th></th>\n",
              "      <th>Metric</th>\n",
              "      <th>T-Statistic</th>\n",
              "      <th>P-Value</th>\n",
              "    </tr>\n",
              "  </thead>\n",
              "  <tbody>\n",
              "    <tr>\n",
              "      <th>0</th>\n",
              "      <td>Click Through Rate</td>\n",
              "      <td>-1.978171</td>\n",
              "      <td>0.048184</td>\n",
              "    </tr>\n",
              "    <tr>\n",
              "      <th>1</th>\n",
              "      <td>Conversion Rate</td>\n",
              "      <td>0.474849</td>\n",
              "      <td>0.634998</td>\n",
              "    </tr>\n",
              "    <tr>\n",
              "      <th>2</th>\n",
              "      <td>Bounce Rate</td>\n",
              "      <td>-1.201888</td>\n",
              "      <td>0.229692</td>\n",
              "    </tr>\n",
              "    <tr>\n",
              "      <th>3</th>\n",
              "      <td>Scroll Depth</td>\n",
              "      <td>0.756228</td>\n",
              "      <td>0.449692</td>\n",
              "    </tr>\n",
              "  </tbody>\n",
              "</table>\n",
              "</div>\n",
              "    <div class=\"colab-df-buttons\">\n",
              "\n",
              "  <div class=\"colab-df-container\">\n",
              "    <button class=\"colab-df-convert\" onclick=\"convertToInteractive('df-121adcab-0628-4dbe-86b2-a00f722e3e64')\"\n",
              "            title=\"Convert this dataframe to an interactive table.\"\n",
              "            style=\"display:none;\">\n",
              "\n",
              "  <svg xmlns=\"http://www.w3.org/2000/svg\" height=\"24px\" viewBox=\"0 -960 960 960\">\n",
              "    <path d=\"M120-120v-720h720v720H120Zm60-500h600v-160H180v160Zm220 220h160v-160H400v160Zm0 220h160v-160H400v160ZM180-400h160v-160H180v160Zm440 0h160v-160H620v160ZM180-180h160v-160H180v160Zm440 0h160v-160H620v160Z\"/>\n",
              "  </svg>\n",
              "    </button>\n",
              "\n",
              "  <style>\n",
              "    .colab-df-container {\n",
              "      display:flex;\n",
              "      gap: 12px;\n",
              "    }\n",
              "\n",
              "    .colab-df-convert {\n",
              "      background-color: #E8F0FE;\n",
              "      border: none;\n",
              "      border-radius: 50%;\n",
              "      cursor: pointer;\n",
              "      display: none;\n",
              "      fill: #1967D2;\n",
              "      height: 32px;\n",
              "      padding: 0 0 0 0;\n",
              "      width: 32px;\n",
              "    }\n",
              "\n",
              "    .colab-df-convert:hover {\n",
              "      background-color: #E2EBFA;\n",
              "      box-shadow: 0px 1px 2px rgba(60, 64, 67, 0.3), 0px 1px 3px 1px rgba(60, 64, 67, 0.15);\n",
              "      fill: #174EA6;\n",
              "    }\n",
              "\n",
              "    .colab-df-buttons div {\n",
              "      margin-bottom: 4px;\n",
              "    }\n",
              "\n",
              "    [theme=dark] .colab-df-convert {\n",
              "      background-color: #3B4455;\n",
              "      fill: #D2E3FC;\n",
              "    }\n",
              "\n",
              "    [theme=dark] .colab-df-convert:hover {\n",
              "      background-color: #434B5C;\n",
              "      box-shadow: 0px 1px 3px 1px rgba(0, 0, 0, 0.15);\n",
              "      filter: drop-shadow(0px 1px 2px rgba(0, 0, 0, 0.3));\n",
              "      fill: #FFFFFF;\n",
              "    }\n",
              "  </style>\n",
              "\n",
              "    <script>\n",
              "      const buttonEl =\n",
              "        document.querySelector('#df-121adcab-0628-4dbe-86b2-a00f722e3e64 button.colab-df-convert');\n",
              "      buttonEl.style.display =\n",
              "        google.colab.kernel.accessAllowed ? 'block' : 'none';\n",
              "\n",
              "      async function convertToInteractive(key) {\n",
              "        const element = document.querySelector('#df-121adcab-0628-4dbe-86b2-a00f722e3e64');\n",
              "        const dataTable =\n",
              "          await google.colab.kernel.invokeFunction('convertToInteractive',\n",
              "                                                    [key], {});\n",
              "        if (!dataTable) return;\n",
              "\n",
              "        const docLinkHtml = 'Like what you see? Visit the ' +\n",
              "          '<a target=\"_blank\" href=https://colab.research.google.com/notebooks/data_table.ipynb>data table notebook</a>'\n",
              "          + ' to learn more about interactive tables.';\n",
              "        element.innerHTML = '';\n",
              "        dataTable['output_type'] = 'display_data';\n",
              "        await google.colab.output.renderOutput(dataTable, element);\n",
              "        const docLink = document.createElement('div');\n",
              "        docLink.innerHTML = docLinkHtml;\n",
              "        element.appendChild(docLink);\n",
              "      }\n",
              "    </script>\n",
              "  </div>\n",
              "\n",
              "\n",
              "<div id=\"df-fd56d383-0d23-4111-93e3-55bfd3103206\">\n",
              "  <button class=\"colab-df-quickchart\" onclick=\"quickchart('df-fd56d383-0d23-4111-93e3-55bfd3103206')\"\n",
              "            title=\"Suggest charts\"\n",
              "            style=\"display:none;\">\n",
              "\n",
              "<svg xmlns=\"http://www.w3.org/2000/svg\" height=\"24px\"viewBox=\"0 0 24 24\"\n",
              "     width=\"24px\">\n",
              "    <g>\n",
              "        <path d=\"M19 3H5c-1.1 0-2 .9-2 2v14c0 1.1.9 2 2 2h14c1.1 0 2-.9 2-2V5c0-1.1-.9-2-2-2zM9 17H7v-7h2v7zm4 0h-2V7h2v10zm4 0h-2v-4h2v4z\"/>\n",
              "    </g>\n",
              "</svg>\n",
              "  </button>\n",
              "\n",
              "<style>\n",
              "  .colab-df-quickchart {\n",
              "      --bg-color: #E8F0FE;\n",
              "      --fill-color: #1967D2;\n",
              "      --hover-bg-color: #E2EBFA;\n",
              "      --hover-fill-color: #174EA6;\n",
              "      --disabled-fill-color: #AAA;\n",
              "      --disabled-bg-color: #DDD;\n",
              "  }\n",
              "\n",
              "  [theme=dark] .colab-df-quickchart {\n",
              "      --bg-color: #3B4455;\n",
              "      --fill-color: #D2E3FC;\n",
              "      --hover-bg-color: #434B5C;\n",
              "      --hover-fill-color: #FFFFFF;\n",
              "      --disabled-bg-color: #3B4455;\n",
              "      --disabled-fill-color: #666;\n",
              "  }\n",
              "\n",
              "  .colab-df-quickchart {\n",
              "    background-color: var(--bg-color);\n",
              "    border: none;\n",
              "    border-radius: 50%;\n",
              "    cursor: pointer;\n",
              "    display: none;\n",
              "    fill: var(--fill-color);\n",
              "    height: 32px;\n",
              "    padding: 0;\n",
              "    width: 32px;\n",
              "  }\n",
              "\n",
              "  .colab-df-quickchart:hover {\n",
              "    background-color: var(--hover-bg-color);\n",
              "    box-shadow: 0 1px 2px rgba(60, 64, 67, 0.3), 0 1px 3px 1px rgba(60, 64, 67, 0.15);\n",
              "    fill: var(--button-hover-fill-color);\n",
              "  }\n",
              "\n",
              "  .colab-df-quickchart-complete:disabled,\n",
              "  .colab-df-quickchart-complete:disabled:hover {\n",
              "    background-color: var(--disabled-bg-color);\n",
              "    fill: var(--disabled-fill-color);\n",
              "    box-shadow: none;\n",
              "  }\n",
              "\n",
              "  .colab-df-spinner {\n",
              "    border: 2px solid var(--fill-color);\n",
              "    border-color: transparent;\n",
              "    border-bottom-color: var(--fill-color);\n",
              "    animation:\n",
              "      spin 1s steps(1) infinite;\n",
              "  }\n",
              "\n",
              "  @keyframes spin {\n",
              "    0% {\n",
              "      border-color: transparent;\n",
              "      border-bottom-color: var(--fill-color);\n",
              "      border-left-color: var(--fill-color);\n",
              "    }\n",
              "    20% {\n",
              "      border-color: transparent;\n",
              "      border-left-color: var(--fill-color);\n",
              "      border-top-color: var(--fill-color);\n",
              "    }\n",
              "    30% {\n",
              "      border-color: transparent;\n",
              "      border-left-color: var(--fill-color);\n",
              "      border-top-color: var(--fill-color);\n",
              "      border-right-color: var(--fill-color);\n",
              "    }\n",
              "    40% {\n",
              "      border-color: transparent;\n",
              "      border-right-color: var(--fill-color);\n",
              "      border-top-color: var(--fill-color);\n",
              "    }\n",
              "    60% {\n",
              "      border-color: transparent;\n",
              "      border-right-color: var(--fill-color);\n",
              "    }\n",
              "    80% {\n",
              "      border-color: transparent;\n",
              "      border-right-color: var(--fill-color);\n",
              "      border-bottom-color: var(--fill-color);\n",
              "    }\n",
              "    90% {\n",
              "      border-color: transparent;\n",
              "      border-bottom-color: var(--fill-color);\n",
              "    }\n",
              "  }\n",
              "</style>\n",
              "\n",
              "  <script>\n",
              "    async function quickchart(key) {\n",
              "      const quickchartButtonEl =\n",
              "        document.querySelector('#' + key + ' button');\n",
              "      quickchartButtonEl.disabled = true;  // To prevent multiple clicks.\n",
              "      quickchartButtonEl.classList.add('colab-df-spinner');\n",
              "      try {\n",
              "        const charts = await google.colab.kernel.invokeFunction(\n",
              "            'suggestCharts', [key], {});\n",
              "      } catch (error) {\n",
              "        console.error('Error during call to suggestCharts:', error);\n",
              "      }\n",
              "      quickchartButtonEl.classList.remove('colab-df-spinner');\n",
              "      quickchartButtonEl.classList.add('colab-df-quickchart-complete');\n",
              "    }\n",
              "    (() => {\n",
              "      let quickchartButtonEl =\n",
              "        document.querySelector('#df-fd56d383-0d23-4111-93e3-55bfd3103206 button');\n",
              "      quickchartButtonEl.style.display =\n",
              "        google.colab.kernel.accessAllowed ? 'block' : 'none';\n",
              "    })();\n",
              "  </script>\n",
              "</div>\n",
              "\n",
              "  <div id=\"id_87d2a086-eced-4758-a6c6-1c251eed1cd5\">\n",
              "    <style>\n",
              "      .colab-df-generate {\n",
              "        background-color: #E8F0FE;\n",
              "        border: none;\n",
              "        border-radius: 50%;\n",
              "        cursor: pointer;\n",
              "        display: none;\n",
              "        fill: #1967D2;\n",
              "        height: 32px;\n",
              "        padding: 0 0 0 0;\n",
              "        width: 32px;\n",
              "      }\n",
              "\n",
              "      .colab-df-generate:hover {\n",
              "        background-color: #E2EBFA;\n",
              "        box-shadow: 0px 1px 2px rgba(60, 64, 67, 0.3), 0px 1px 3px 1px rgba(60, 64, 67, 0.15);\n",
              "        fill: #174EA6;\n",
              "      }\n",
              "\n",
              "      [theme=dark] .colab-df-generate {\n",
              "        background-color: #3B4455;\n",
              "        fill: #D2E3FC;\n",
              "      }\n",
              "\n",
              "      [theme=dark] .colab-df-generate:hover {\n",
              "        background-color: #434B5C;\n",
              "        box-shadow: 0px 1px 3px 1px rgba(0, 0, 0, 0.15);\n",
              "        filter: drop-shadow(0px 1px 2px rgba(0, 0, 0, 0.3));\n",
              "        fill: #FFFFFF;\n",
              "      }\n",
              "    </style>\n",
              "    <button class=\"colab-df-generate\" onclick=\"generateWithVariable('comparison_table')\"\n",
              "            title=\"Generate code using this dataframe.\"\n",
              "            style=\"display:none;\">\n",
              "\n",
              "  <svg xmlns=\"http://www.w3.org/2000/svg\" height=\"24px\"viewBox=\"0 0 24 24\"\n",
              "       width=\"24px\">\n",
              "    <path d=\"M7,19H8.4L18.45,9,17,7.55,7,17.6ZM5,21V16.75L18.45,3.32a2,2,0,0,1,2.83,0l1.4,1.43a1.91,1.91,0,0,1,.58,1.4,1.91,1.91,0,0,1-.58,1.4L9.25,21ZM18.45,9,17,7.55Zm-12,3A5.31,5.31,0,0,0,4.9,8.1,5.31,5.31,0,0,0,1,6.5,5.31,5.31,0,0,0,4.9,4.9,5.31,5.31,0,0,0,6.5,1,5.31,5.31,0,0,0,8.1,4.9,5.31,5.31,0,0,0,12,6.5,5.46,5.46,0,0,0,6.5,12Z\"/>\n",
              "  </svg>\n",
              "    </button>\n",
              "    <script>\n",
              "      (() => {\n",
              "      const buttonEl =\n",
              "        document.querySelector('#id_87d2a086-eced-4758-a6c6-1c251eed1cd5 button.colab-df-generate');\n",
              "      buttonEl.style.display =\n",
              "        google.colab.kernel.accessAllowed ? 'block' : 'none';\n",
              "\n",
              "      buttonEl.onclick = () => {\n",
              "        google.colab.notebook.generateWithVariable('comparison_table');\n",
              "      }\n",
              "      })();\n",
              "    </script>\n",
              "  </div>\n",
              "\n",
              "    </div>\n",
              "  </div>\n"
            ],
            "application/vnd.google.colaboratory.intrinsic+json": {
              "type": "dataframe",
              "variable_name": "comparison_table",
              "summary": "{\n  \"name\": \"comparison_table\",\n  \"rows\": 4,\n  \"fields\": [\n    {\n      \"column\": \"Metric\",\n      \"properties\": {\n        \"dtype\": \"string\",\n        \"num_unique_values\": 4,\n        \"samples\": [\n          \"Conversion Rate\",\n          \"Scroll Depth\",\n          \"Click Through Rate\"\n        ],\n        \"semantic_type\": \"\",\n        \"description\": \"\"\n      }\n    },\n    {\n      \"column\": \"T-Statistic\",\n      \"properties\": {\n        \"dtype\": \"number\",\n        \"std\": 1.3172478030444517,\n        \"min\": -1.9781708664172253,\n        \"max\": 0.7562277864140986,\n        \"num_unique_values\": 4,\n        \"samples\": [\n          0.4748494462782632,\n          0.7562277864140986,\n          -1.9781708664172253\n        ],\n        \"semantic_type\": \"\",\n        \"description\": \"\"\n      }\n    },\n    {\n      \"column\": \"P-Value\",\n      \"properties\": {\n        \"dtype\": \"number\",\n        \"std\": 0.2558507759909918,\n        \"min\": 0.04818435371010704,\n        \"max\": 0.6349982678451778,\n        \"num_unique_values\": 4,\n        \"samples\": [\n          0.6349982678451778,\n          0.4496919249484911,\n          0.04818435371010704\n        ],\n        \"semantic_type\": \"\",\n        \"description\": \"\"\n      }\n    }\n  ]\n}"
            }
          },
          "metadata": {},
          "execution_count": 18
        }
      ]
    },
    {
      "cell_type": "markdown",
      "source": [
        "So, here’s a table comparing the performance of the Light Theme and Dark Theme across various metrics based on hypothesis testing:\n",
        "\n",
        "* Click Through Rate: The test reveals a statistically significant difference, with the Dark Theme likely performing better (P-Value = 0.048).\n",
        "* Conversion Rate: No statistically significant difference was found (P-Value = 0.635).\n",
        "* Bounce Rate: There’s no statistically significant difference in Bounce Rates between the themes (P-Value = 0.230).\n",
        "* Scroll Depth: Similarly, no statistically significant difference is observed in Scroll Depths (P-Value = 0.450).\n",
        "\n",
        "In summary, while the two themes perform similarly across most metrics, the Dark Theme has a slight edge in terms of engaging users to click through. For other key performance indicators like Conversion Rate, Bounce Rate, and Scroll Depth, the choice between a Light Theme and a Dark Theme does not significantly affect user behaviour according to the data provided."
      ],
      "metadata": {
        "id": "FZGE1dmANC4m"
      }
    },
    {
      "cell_type": "markdown",
      "source": [
        "## Summary\n",
        "\n",
        "So, Hypothesis Testing is a statistical method used to make inferences or decisions about a population based on sample data. It starts with a null hypothesis (H0), which represents a default stance or no effect, and an alternative hypothesis (H1 or Ha), which represents what we aim to prove or expect to find. The process involves using sample data to determine whether to reject the null hypothesis in favor of the alternative hypothesis, based on the likelihood of observing the sample data under the null hypothesis."
      ],
      "metadata": {
        "id": "6DeUHmOQNOed"
      }
    }
  ]
}